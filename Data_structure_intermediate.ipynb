{
  "nbformat": 4,
  "nbformat_minor": 0,
  "metadata": {
    "colab": {
      "name": "Data_structure_intermediate.ipynb",
      "private_outputs": true,
      "provenance": [],
      "collapsed_sections": [],
      "authorship_tag": "ABX9TyMEe6mws1pVeq5XGg6E1VlW",
      "include_colab_link": true
    },
    "kernelspec": {
      "name": "python3",
      "display_name": "Python 3"
    },
    "language_info": {
      "name": "python"
    }
  },
  "cells": [
    {
      "cell_type": "markdown",
      "metadata": {
        "id": "view-in-github",
        "colab_type": "text"
      },
      "source": [
        "<a href=\"https://colab.research.google.com/github/hyesukim1/algo-practice/blob/main/Data_structure_intermediate.ipynb\" target=\"_parent\"><img src=\"https://colab.research.google.com/assets/colab-badge.svg\" alt=\"Open In Colab\"/></a>"
      ]
    },
    {
      "cell_type": "code",
      "source": [
        "numbers = [1, 2, 3, 4]\n",
        "len_num = len(numbers)\n",
        "\n",
        "for i in range(0, len_num):\n",
        "  for j in range(1, len_num):\n",
        "    print(\"i: \", i, \"j: \", j)\n",
        "  print()"
      ],
      "metadata": {
        "id": "wAf0WoHk1tvw"
      },
      "execution_count": null,
      "outputs": []
    },
    {
      "cell_type": "code",
      "source": [
        "def remain_sum(numbers):\n",
        "  result = []\n",
        "  init_value = 0\n",
        "\n",
        "  for i in range(0, len(numbers)):\n",
        "    result.append(init_value)\n",
        "    print(\"left sum - result[\",i,']:', result[i])\n",
        "    init_value = init_value + numbers[i]\n",
        "\n",
        "  init_value = 0\n",
        "\n",
        "  for i in range(len(numbers)-1, 0-1, -1):\n",
        "    result[i] = result[i] + init_value\n",
        "    print(\"final sum - result[\",i,']:', result[i])\n",
        "    init_value = init_value + numbers[i]\n",
        "\n",
        "  return result\n",
        "\n",
        "numbers = [int(numbers) for numbers in input(\"리스트값을 입력하세요 : \").split(',')]\n",
        "print(\"결과:\", remain_sum(numbers))"
      ],
      "metadata": {
        "id": "axr2ov33dt5W"
      },
      "execution_count": null,
      "outputs": []
    },
    {
      "cell_type": "code",
      "source": [
        "def linear_search(arr, target):\n",
        "  for idx in range(len(arr)):\n",
        "    if arr[idx] == target:\n",
        "      return idx\n",
        "\n",
        "  return -1\n",
        "\n",
        "print(linear_search([0,1,2], 2))\n",
        "print(linear_search([0,1,2], 3))"
      ],
      "metadata": {
        "id": "baL0q-V3fnZP"
      },
      "execution_count": null,
      "outputs": []
    },
    {
      "cell_type": "code",
      "source": [
        "class node:\n",
        "  def __init__(self, value):\n",
        "    self.value = value\n",
        "    self.left = None\n",
        "    self.right = None\n",
        "\n",
        "class binary_search_tree:\n",
        "  def __init__(self, head):\n",
        "    self.head = head\n",
        "\n",
        "  def insert_node(self, value):\n",
        "    self.base_node = self.head\n",
        "    while True:\n",
        "      if value < self.base_node.value:\n",
        "        if self.base_node.left != None:\n",
        "          self.base_node = self.base_node.left\n",
        "        else:\n",
        "          self.base_node.left = node(value)\n",
        "          break\n",
        "      else:\n",
        "        if self.base_node.right != None:\n",
        "          self.base_node = self.base_node.right\n",
        "        else:\n",
        "          self.base_node.right = node(value)\n",
        "          break\n",
        "\n",
        "  def search_node(self, value):\n",
        "    self.base_node = self.head\n",
        "\n",
        "    while self.base_node:\n",
        "      if self.base_node.value == value:\n",
        "        return True\n",
        "    return False"
      ],
      "metadata": {
        "id": "dWXPe84fgdCe"
      },
      "execution_count": null,
      "outputs": []
    },
    {
      "cell_type": "code",
      "source": [
        "head = node(1)\n",
        "bt = binary_search_tree(head)"
      ],
      "metadata": {
        "id": "71C49hi9peh7"
      },
      "execution_count": null,
      "outputs": []
    },
    {
      "cell_type": "code",
      "source": [
        "bt.insert_node(2)"
      ],
      "metadata": {
        "id": "2Pn5NGXYpkSA"
      },
      "execution_count": null,
      "outputs": []
    },
    {
      "cell_type": "code",
      "source": [
        "head = node(10)\n",
        "bt = binary_search_tree(head)\n",
        "\n",
        "bt.insert_node(2)\n",
        "bt.insert_node(5)\n",
        "bt.insert_node(0)\n",
        "bt.insert_node(-1)"
      ],
      "metadata": {
        "id": "Bokk5O_7pp2h"
      },
      "execution_count": null,
      "outputs": []
    },
    {
      "cell_type": "markdown",
      "source": [
        "# 머신러닝을 위한 트리의 활용"
      ],
      "metadata": {
        "id": "7-4H0a9MsuOz"
      }
    },
    {
      "cell_type": "code",
      "source": [
        "from sklearn.tree import DecisionTreeClassifier\n",
        "from sklearn.datasets import load_breast_cancer\n",
        "from sklearn.model_selection import train_test_split\n",
        "\n",
        "cancer = load_breast_cancer()\n",
        "x_train, x_test, y_train, y_test = train_test_split(\n",
        "    cancer.data, cancer.target, stratify=cancer.target, random_state=42)\n",
        "\n",
        "tree = DecisionTreeClassifier(random_state=0)\n",
        "tree.fit(x_train, y_train)\n",
        "\n",
        "print('훈련 정확도: {:.3f}'.format(tree.score(x_train, y_train)))\n",
        "print('테스트 정확도: {:.3f}'.format(tree.score(x_test, y_test)))"
      ],
      "metadata": {
        "id": "4IeWa6FkqSEn"
      },
      "execution_count": null,
      "outputs": []
    },
    {
      "cell_type": "code",
      "source": [
        "tree = DecisionTreeClassifier(max_depth=4, random_state=0)\n",
        "tree.fit(x_train, y_train)\n",
        "\n",
        "print(\"훈련 세트 정확도: {:.3f}\".format(tree.score(x_train, y_train)))\n",
        "print(\"테스트 세트 정확도: {:.3f}\".format(tree.score(x_test, y_test)))"
      ],
      "metadata": {
        "id": "9CeHjYKLtzxI"
      },
      "execution_count": null,
      "outputs": []
    },
    {
      "cell_type": "code",
      "source": [
        "from sklearn.tree import export_graphviz\n",
        "export_graphviz(tree, out_file=\"tree.dot\", class_names=[\"악성\", \"양성\"],\n",
        "                feature_names=cancer.feature_names,\n",
        "                impurity=False, filled=True)"
      ],
      "metadata": {
        "id": "xqKb2i2EuFCr"
      },
      "execution_count": null,
      "outputs": []
    },
    {
      "cell_type": "code",
      "source": [
        "import graphviz\n",
        "\n",
        "with open(\"tree.dot\") as f:\n",
        "    dot_graph = f.read()\n",
        "display(graphviz.Source(dot_graph))"
      ],
      "metadata": {
        "id": "2JFmhUI6uWIJ"
      },
      "execution_count": null,
      "outputs": []
    },
    {
      "cell_type": "markdown",
      "source": [
        "# 역전파 자동화를 구형하여 재귀와 반복문의 차이 확인"
      ],
      "metadata": {
        "id": "KBdlrcPkvBeL"
      }
    },
    {
      "cell_type": "code",
      "source": [
        "import numpy as np"
      ],
      "metadata": {
        "id": "O43C7oLpvBIk"
      },
      "execution_count": null,
      "outputs": []
    },
    {
      "cell_type": "code",
      "source": [
        "class Function:\n",
        "  def __call__(self, input):\n",
        "    x = input.data\n",
        "    y = self.forward(x)\n",
        "    output = Variable(y)\n",
        "    output.set_creator(self)\n",
        "    self.input = input\n",
        "    self.output = output\n",
        "    return output\n",
        "\n",
        "  def forward(self, x):\n",
        "    raise NotImplementedError()\n",
        "\n",
        "  def backward(self, gy):\n",
        "    raise NotImplementedError()"
      ],
      "metadata": {
        "id": "fIuba_ebuYO3"
      },
      "execution_count": null,
      "outputs": []
    },
    {
      "cell_type": "code",
      "source": [
        "class Square(Function):\n",
        "  def forward(self, x):\n",
        "    y = x ** 2\n",
        "    return y\n",
        "\n",
        "  def backward(self, gy):\n",
        "    x = self.input.data\n",
        "    gx = 2 * x * gy\n",
        "    return gx"
      ],
      "metadata": {
        "id": "O6hepvNkvzD_"
      },
      "execution_count": null,
      "outputs": []
    },
    {
      "cell_type": "code",
      "source": [
        "class Exp(Function):\n",
        "  def forward(self, x):\n",
        "    y = np.exp(x)\n",
        "    return y\n",
        "\n",
        "  def backward(self, gy):\n",
        "    x = self.input.data\n",
        "    gx = np.exp(x) * gy\n",
        "    return gx"
      ],
      "metadata": {
        "id": "IuDDKlamwKq2"
      },
      "execution_count": null,
      "outputs": []
    },
    {
      "cell_type": "code",
      "source": [
        "class Variable:\n",
        "  def __init__(self, data):\n",
        "    self.data = data\n",
        "    self.grad = None\n",
        "    self.creator = None\n",
        "\n",
        "  def set_creator(self, func):\n",
        "    self.creator = func\n",
        "\n",
        "  def backward(self):\n",
        "    f = self.creator\n",
        "    if f is not None:\n",
        "      x = f.input\n",
        "      x.grad = f.backward(self.grad)\n",
        "      x.backward()"
      ],
      "metadata": {
        "id": "9hvSwNU4wZ29"
      },
      "execution_count": null,
      "outputs": []
    },
    {
      "cell_type": "code",
      "source": [
        "A = Square()\n",
        "B = Exp()\n",
        "C = Square()\n",
        "\n",
        "x = Variable(np.array(0.5))\n",
        "a = A(x)\n",
        "b = B(a)\n",
        "y = C(b)"
      ],
      "metadata": {
        "id": "nNCtqbUowcdf"
      },
      "execution_count": null,
      "outputs": []
    },
    {
      "cell_type": "code",
      "source": [
        "y.grad = np.array(1.0)\n",
        "\n",
        "C = y.creator\n",
        "b = C.input\n",
        "b.grad = C.backward(y.grad)"
      ],
      "metadata": {
        "id": "VAe8ryZFwgRm"
      },
      "execution_count": null,
      "outputs": []
    },
    {
      "cell_type": "code",
      "source": [
        "B = b.creator\n",
        "a = B.input\n",
        "a.grad = B.backward(b.grad)"
      ],
      "metadata": {
        "id": "csYbbYOLwi6o"
      },
      "execution_count": null,
      "outputs": []
    },
    {
      "cell_type": "code",
      "source": [
        "A = a.creator\n",
        "x = A.input\n",
        "x.grad = A.backward(a.grad)\n",
        "print(x.grad)"
      ],
      "metadata": {
        "id": "cYnmCj4dwkT_"
      },
      "execution_count": null,
      "outputs": []
    },
    {
      "cell_type": "code",
      "source": [
        ""
      ],
      "metadata": {
        "id": "oU5RFkyxwlhX"
      },
      "execution_count": null,
      "outputs": []
    }
  ]
}