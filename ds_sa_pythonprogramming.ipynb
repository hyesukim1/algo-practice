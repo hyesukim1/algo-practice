{
  "nbformat": 4,
  "nbformat_minor": 0,
  "metadata": {
    "colab": {
      "name": "ds-sa-pythonprogramming.ipynb",
      "private_outputs": true,
      "provenance": [],
      "collapsed_sections": [],
      "authorship_tag": "ABX9TyPteJV+vYVGgk1IsxIlhqZu",
      "include_colab_link": true
    },
    "kernelspec": {
      "name": "python3",
      "display_name": "Python 3"
    },
    "language_info": {
      "name": "python"
    }
  },
  "cells": [
    {
      "cell_type": "markdown",
      "metadata": {
        "id": "view-in-github",
        "colab_type": "text"
      },
      "source": [
        "<a href=\"https://colab.research.google.com/github/hyesukim1/algo-practice/blob/main/ds_sa_pythonprogramming.ipynb\" target=\"_parent\"><img src=\"https://colab.research.google.com/assets/colab-badge.svg\" alt=\"Open In Colab\"/></a>"
      ]
    },
    {
      "cell_type": "markdown",
      "source": [
        "# part 1"
      ],
      "metadata": {
        "id": "hGs9gLDXG1pO"
      }
    },
    {
      "cell_type": "code",
      "execution_count": null,
      "metadata": {
        "id": "nLPCugkZEM_p"
      },
      "outputs": [],
      "source": [
        "def part1():\n",
        "  my_list = []\n",
        "  for i in range(1, 11):\n",
        "    ans = i**2\n",
        "    my_list.append(ans)\n",
        "  return my_list"
      ]
    },
    {
      "cell_type": "code",
      "source": [
        "part1()"
      ],
      "metadata": {
        "id": "e5MO5cfLEiXz"
      },
      "execution_count": null,
      "outputs": []
    },
    {
      "cell_type": "markdown",
      "source": [
        "# part 2"
      ],
      "metadata": {
        "id": "XdeUXEtGG7hV"
      }
    },
    {
      "cell_type": "code",
      "source": [
        "a = list(input())\n",
        "\n",
        "def part2_is_square_num(a):\n",
        "  print(a**2)\n",
        "\n",
        "part2_is_square_num(a)"
      ],
      "metadata": {
        "id": "wqDQ8sJGEm42"
      },
      "execution_count": null,
      "outputs": []
    },
    {
      "cell_type": "code",
      "source": [
        ""
      ],
      "metadata": {
        "id": "bVdgHQKcHWvN"
      },
      "execution_count": null,
      "outputs": []
    }
  ]
}