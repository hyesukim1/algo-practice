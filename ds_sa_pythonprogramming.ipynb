{
  "nbformat": 4,
  "nbformat_minor": 0,
  "metadata": {
    "colab": {
      "name": "ds-sa-pythonprogramming.ipynb",
      "provenance": [],
      "collapsed_sections": [],
      "authorship_tag": "ABX9TyN+6cYYgR6z5l69JSq79RbK",
      "include_colab_link": true
    },
    "kernelspec": {
      "name": "python3",
      "display_name": "Python 3"
    },
    "language_info": {
      "name": "python"
    }
  },
  "cells": [
    {
      "cell_type": "markdown",
      "metadata": {
        "id": "view-in-github",
        "colab_type": "text"
      },
      "source": [
        "<a href=\"https://colab.research.google.com/github/hyesukim1/algo-practice/blob/main/ds_sa_pythonprogramming.ipynb\" target=\"_parent\"><img src=\"https://colab.research.google.com/assets/colab-badge.svg\" alt=\"Open In Colab\"/></a>"
      ]
    },
    {
      "cell_type": "markdown",
      "source": [
        "# part 1"
      ],
      "metadata": {
        "id": "hGs9gLDXG1pO"
      }
    },
    {
      "cell_type": "code",
      "execution_count": 24,
      "metadata": {
        "id": "nLPCugkZEM_p"
      },
      "outputs": [],
      "source": [
        "def part1():\n",
        "  my_list = []\n",
        "  for i in range(1, 11):\n",
        "    ans = i**2\n",
        "    my_list.append(ans)\n",
        "  return my_list"
      ]
    },
    {
      "cell_type": "code",
      "source": [
        "part1()"
      ],
      "metadata": {
        "id": "e5MO5cfLEiXz",
        "colab": {
          "base_uri": "https://localhost:8080/"
        },
        "outputId": "5f945f95-8759-46f2-de8a-12ddb9ad42b6"
      },
      "execution_count": 25,
      "outputs": [
        {
          "output_type": "execute_result",
          "data": {
            "text/plain": [
              "[1, 4, 9, 16, 25, 36, 49, 64, 81, 100]"
            ]
          },
          "metadata": {},
          "execution_count": 25
        }
      ]
    },
    {
      "cell_type": "markdown",
      "source": [
        "# part 2"
      ],
      "metadata": {
        "id": "XdeUXEtGG7hV"
      }
    },
    {
      "cell_type": "code",
      "source": [
        "# 문제 1\n",
        "\n",
        "a = [1, 2, 3, 4, 5]\n",
        "\n",
        "def part2_is_square_num(a):\n",
        "  return list(map(lambda x: x**2, a))\n",
        "\n",
        "ans = part2_is_square_num(a)\n",
        "print(ans)"
      ],
      "metadata": {
        "id": "wqDQ8sJGEm42",
        "colab": {
          "base_uri": "https://localhost:8080/"
        },
        "outputId": "8cce4537-63fa-4f23-b570-97ec813adb3e"
      },
      "execution_count": 26,
      "outputs": [
        {
          "output_type": "stream",
          "name": "stdout",
          "text": [
            "[1, 4, 9, 16, 25]\n"
          ]
        }
      ]
    },
    {
      "cell_type": "code",
      "source": [
        "# 문제 2\n",
        "\n",
        "a = [1, 4, 9, 16, 25]\n",
        "\n",
        "def part2_is_odd_num(a):\n",
        "  return list(map(lambda x: '짝수' if x%2 == 0 else '홀수', a))\n",
        "\n",
        "ans = part2_is_odd_num(a)\n",
        "print(ans)"
      ],
      "metadata": {
        "id": "bVdgHQKcHWvN",
        "colab": {
          "base_uri": "https://localhost:8080/"
        },
        "outputId": "7677c043-a30a-42e9-cd27-928ed0e7225f"
      },
      "execution_count": 31,
      "outputs": [
        {
          "output_type": "stream",
          "name": "stdout",
          "text": [
            "['홀수', '짝수', '홀수', '짝수', '홀수']\n"
          ]
        }
      ]
    },
    {
      "cell_type": "markdown",
      "source": [
        "# part 3"
      ],
      "metadata": {
        "id": "9ZdXdKw3YMSG"
      }
    },
    {
      "cell_type": "code",
      "source": [
        "s = input()\n",
        "\n",
        "def part3(s):\n",
        "  return ' '.join(sorted(set(s.split())))\n",
        "\n",
        "answer = part3(s)\n",
        "print(answer)"
      ],
      "metadata": {
        "id": "2UR59p4tQsCT",
        "outputId": "0f997e9a-4a75-424b-fd9a-276896749e85",
        "colab": {
          "base_uri": "https://localhost:8080/"
        }
      },
      "execution_count": 36,
      "outputs": [
        {
          "output_type": "stream",
          "name": "stdout",
          "text": [
            "z X y D c A b U\n",
            "A D U X b c y z\n"
          ]
        }
      ]
    },
    {
      "cell_type": "markdown",
      "source": [
        "# part 4"
      ],
      "metadata": {
        "id": "mTZ5PJURaeZ5"
      }
    },
    {
      "cell_type": "code",
      "source": [
        "s = input()\n",
        "\n",
        "def part4(s):\n",
        "  return ' '.join(sorted(set(s.split()))).swapcase()\n",
        "\n",
        "answer = part4(s)\n",
        "print(answer)"
      ],
      "metadata": {
        "id": "NsqEhODgZQFP",
        "outputId": "516ce910-a7bf-4ecf-80cc-07039166b107",
        "colab": {
          "base_uri": "https://localhost:8080/"
        }
      },
      "execution_count": 41,
      "outputs": [
        {
          "output_type": "stream",
          "name": "stdout",
          "text": [
            "z X y W v U t S\n",
            "s u w x T V Y Z\n"
          ]
        }
      ]
    }
  ]
}