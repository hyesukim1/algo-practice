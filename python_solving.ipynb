{
  "nbformat": 4,
  "nbformat_minor": 0,
  "metadata": {
    "colab": {
      "name": "python_solving.ipynb",
      "private_outputs": true,
      "provenance": [],
      "authorship_tag": "ABX9TyMV4DV2+D3Fh1c0rhdIM4nu",
      "include_colab_link": true
    },
    "kernelspec": {
      "name": "python3",
      "display_name": "Python 3"
    },
    "language_info": {
      "name": "python"
    }
  },
  "cells": [
    {
      "cell_type": "markdown",
      "metadata": {
        "id": "view-in-github",
        "colab_type": "text"
      },
      "source": [
        "<a href=\"https://colab.research.google.com/github/hyesukim1/algo-practice/blob/main/python_solving.ipynb\" target=\"_parent\"><img src=\"https://colab.research.google.com/assets/colab-badge.svg\" alt=\"Open In Colab\"/></a>"
      ]
    },
    {
      "cell_type": "markdown",
      "source": [
        "# 컴프리헨션"
      ],
      "metadata": {
        "id": "i5R6Vgtvwl_c"
      }
    },
    {
      "cell_type": "code",
      "execution_count": null,
      "metadata": {
        "id": "n69kyYLzsB2a"
      },
      "outputs": [],
      "source": [
        "# 리스트 컴프리헨션\n",
        "case1 = [i for i in range(1, 50)]\n",
        "\n",
        "case2 = [i for i in range(1, 51) if i%3==0 and i%5==0]\n",
        "# print(case2)\n",
        "\n",
        "# 딕셔너리 컴프리헨션\n",
        "test = {'A': 5, 'B': 7, 'C': 9, 'D': 6, 'E': 10} \n",
        "test = {na:test for na,test in test.items() if na != 'E'}\n",
        "# print(test)"
      ]
    },
    {
      "cell_type": "code",
      "source": [
        "# list, set 비교\n",
        "print('list for loop : ',[n for n in range(1, 5+1) for n in range(1, 5+1)])\n",
        "\n",
        "print('set for loop : ',{n for n in range(1, 5+1) for n in range(1, 5+1)})"
      ],
      "metadata": {
        "id": "7x_V2h4CwIzv"
      },
      "execution_count": null,
      "outputs": []
    },
    {
      "cell_type": "code",
      "source": [
        "# 튜플 리스트를 딕셔너리 형태로 변환\n",
        "score_tuples = [('math', 90), ('history', 80), ('english', 95), ('computer engineering', 100)]\n",
        "score_dict = {t[0]: t[1] for t in score_tuples}\n",
        "print(score_dict)"
      ],
      "metadata": {
        "id": "xKTf8aBXwczo"
      },
      "execution_count": null,
      "outputs": []
    },
    {
      "cell_type": "code",
      "source": [
        "# continue 사용법\n",
        "for i in range(2,21):\n",
        "  if i == 8:\n",
        "    print()\n",
        "    continue\n",
        "  print(i , end= ' ')"
      ],
      "metadata": {
        "id": "Q2f0XgTmsXls"
      },
      "execution_count": null,
      "outputs": []
    },
    {
      "cell_type": "markdown",
      "source": [
        "# 구문 및 예외 처리"
      ],
      "metadata": {
        "id": "ZWWL8ApSwpAs"
      }
    },
    {
      "cell_type": "code",
      "source": [
        "for i in range(10):\n",
        "  print('loop : ', i) # 1) 루프반복수행\n",
        "  if i == 5:\n",
        "    break     # break는 어떤 영향을 줄 것인가?\n",
        "else: \n",
        "  print('break가 실행되지 않았습니다.') # 2) else 구문 추가수행"
      ],
      "metadata": {
        "id": "sorAAz_puBSo"
      },
      "execution_count": null,
      "outputs": []
    },
    {
      "cell_type": "code",
      "source": [
        "# 반복문에 빈 리스트는? => else로 넘어감\n",
        "\n",
        "for i in []:\n",
        "  print('loop : ', i) # 1) 루프반복수행\n",
        "else: \n",
        "  print('Else statement') # 2) else 구문 추가수행"
      ],
      "metadata": {
        "id": "kAuJ056q0WxO"
      },
      "execution_count": null,
      "outputs": []
    },
    {
      "cell_type": "code",
      "source": [
        "p_a = 5\n",
        "p_b = 3\n",
        "\n",
        "for i in range(2, min(p_a, p_b) +1):    \n",
        "  print('testing ....', i)\n",
        "  if p_a % i == 0 and p_b % i == 0:\n",
        "    print('서로소가 아닙니다.')\n",
        "    break\n",
        "# 공약수가 1뿐인 경우 break 문이 실행되지 못하고 아래 else문이 실행된다.\n",
        "else:\n",
        "  print('서로소입니다.')\n",
        "\n",
        "print('---------------------------------')\n",
        "# 아래 코드를 수행하여 위의 코드 결과를 비교해 보세요.\n",
        "p_a = 5\n",
        "p_b = 3\n",
        "\n",
        "for i in range(2, min(p_a, p_b) +1):    \n",
        "  print('testing ....', i)\n",
        "  if p_a % i == 0 and p_b % i == 0:\n",
        "    print('서로소가 아닙니다.')\n",
        "    break\n",
        "  else:\n",
        "    print('서로소입니다.')"
      ],
      "metadata": {
        "id": "7BchEdQZ0jni"
      },
      "execution_count": null,
      "outputs": []
    },
    {
      "cell_type": "markdown",
      "source": [
        "# 문제"
      ],
      "metadata": {
        "id": "SbWCkXbD5jes"
      }
    },
    {
      "cell_type": "code",
      "source": [
        "# part1\n",
        "def part1():\n",
        "  ans = [a for a in range(1, 101) if a%7==0 and a%5==0]\n",
        "  return ans\n",
        "part1()"
      ],
      "metadata": {
        "id": "tUIy90xF3RjM"
      },
      "execution_count": null,
      "outputs": []
    },
    {
      "cell_type": "code",
      "source": [
        "# part2\n",
        "a = [4, 8, 5, 11, 7, 2]\n",
        "\n",
        "def part2(a):\n",
        "  for i in range(len(a)-1):\n",
        "    for j in range(i+1, len(a)):\n",
        "      if a[i]>a[j]:\n",
        "        tmp = a[j]\n",
        "        a[j] = a[i]\n",
        "        a[i] = tmp\n",
        "  return a[len(a)-1]\n",
        "\n",
        "part2(a)  "
      ],
      "metadata": {
        "id": "kPNRZTbf55dh"
      },
      "execution_count": null,
      "outputs": []
    },
    {
      "cell_type": "code",
      "source": [
        ""
      ],
      "metadata": {
        "id": "9IZLIe3F7BpX"
      },
      "execution_count": null,
      "outputs": []
    }
  ]
}