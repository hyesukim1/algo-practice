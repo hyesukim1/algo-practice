{
  "nbformat": 4,
  "nbformat_minor": 0,
  "metadata": {
    "colab": {
      "name": "data_structure_fundamental.ipynb",
      "private_outputs": true,
      "provenance": [],
      "authorship_tag": "ABX9TyNy9/A7eKCvsRtge6bj6S/m",
      "include_colab_link": true
    },
    "kernelspec": {
      "name": "python3",
      "display_name": "Python 3"
    },
    "language_info": {
      "name": "python"
    }
  },
  "cells": [
    {
      "cell_type": "markdown",
      "metadata": {
        "id": "view-in-github",
        "colab_type": "text"
      },
      "source": [
        "<a href=\"https://colab.research.google.com/github/hyesukim1/algo-practice/blob/main/data_structure_fundamental.ipynb\" target=\"_parent\"><img src=\"https://colab.research.google.com/assets/colab-badge.svg\" alt=\"Open In Colab\"/></a>"
      ]
    },
    {
      "cell_type": "code",
      "execution_count": null,
      "metadata": {
        "id": "yhYAnoLkc0Tv"
      },
      "outputs": [],
      "source": [
        "class Node:\n",
        "  def __init__(self,value):\n",
        "    self.value = value  \n",
        "    self.next = None \n",
        "\n",
        "class linked_list:\n",
        "  def __init__(self,value):\n",
        "    self.head = Node(value) # 초기 클래스에 head노드선언\n",
        "\n",
        "  def add_node(self, value):\n",
        "    if self.head == None:\n",
        "      self.head = Node(value)\n",
        "    else:\n",
        "      node = self.head\n",
        "      while node.next:\n",
        "        node = node.next\n",
        "      node.next = Node(value)\n",
        "\n",
        "    # 연결리스트의 삭제구현\n",
        "  def del_node(self,value):\n",
        "    if self.head == None:\n",
        "      print(\"리스트가 비어있습니다.\")\n",
        "    elif self.head.value == value:\n",
        "      self.head = Node(value)\n",
        "      \n",
        "      # 변경된 노드에 대해서 삭제를 진행한다.\n",
        "    else:\n",
        "      node = self.head\n",
        "      while node.next:\n",
        "        if node.next.value == value:\n",
        "         # 노드의 위치를 변경시킨다.\n",
        "         # 변경된 노드에 대해서 삭제를 진행한다.\n",
        "        else : \n",
        "         # 다음 노드의 위치를 현재 노드에 넣어준다.\n"
      ]
    },
    {
      "cell_type": "code",
      "source": [
        "# 연결리스트의 노드값들에 대해서 봐보자.\n",
        "\n",
        "head = Node(5)    # head노드에 값5를 저장\n",
        "linked_list.add_node(11) # 값11을 추가\n",
        "\n",
        "print(head.value) # head노드의 값은 5\n",
        "print(head.next.value) # head노드의 다음위치노드의 값은 11"
      ],
      "metadata": {
        "id": "l22pav-0IrhJ"
      },
      "execution_count": null,
      "outputs": []
    },
    {
      "cell_type": "code",
      "source": [
        "# 리스트를 연결해보자.\n",
        "\n",
        "node1 = Node(3)\n",
        "node2 = Node(4)\n",
        "\n",
        "node3 = Node(5)\n",
        "node4 = Node(6)\n",
        "\n",
        "node1.next = node2\n",
        "node2.next = node3\n",
        "node3.next = node4\n",
        "\n",
        "node = node1        # 첫번째노드부터 시작한다.\n",
        "while node:         # 노드별로 반복문을 수행\n",
        "  print(node.value) \n",
        "  node = node.next  # 다음노드를 현재노드에 저장하면서 위치를 바꾼다."
      ],
      "metadata": {
        "id": "9RHs0t4uIxL4"
      },
      "execution_count": null,
      "outputs": []
    },
    {
      "cell_type": "code",
      "source": [
        ""
      ],
      "metadata": {
        "id": "qkfwsBRKRkkf"
      },
      "execution_count": null,
      "outputs": []
    }
  ]
}