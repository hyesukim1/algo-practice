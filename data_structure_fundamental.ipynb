{
  "nbformat": 4,
  "nbformat_minor": 0,
  "metadata": {
    "colab": {
      "name": "data_structure_fundamental.ipynb",
      "private_outputs": true,
      "provenance": [],
      "authorship_tag": "ABX9TyNsgEsQAF2wFBtVEGlts5C4",
      "include_colab_link": true
    },
    "kernelspec": {
      "name": "python3",
      "display_name": "Python 3"
    },
    "language_info": {
      "name": "python"
    }
  },
  "cells": [
    {
      "cell_type": "markdown",
      "metadata": {
        "id": "view-in-github",
        "colab_type": "text"
      },
      "source": [
        "<a href=\"https://colab.research.google.com/github/hyesukim1/algo-practice/blob/main/data_structure_fundamental.ipynb\" target=\"_parent\"><img src=\"https://colab.research.google.com/assets/colab-badge.svg\" alt=\"Open In Colab\"/></a>"
      ]
    },
    {
      "cell_type": "code",
      "execution_count": null,
      "metadata": {
        "id": "yhYAnoLkc0Tv"
      },
      "outputs": [],
      "source": [
        "class Node:\n",
        "  def __init__(self,value):\n",
        "    self.value = value  \n",
        "    self.next = None \n",
        "\n",
        "class linked_list:\n",
        "  def __init__(self,value):\n",
        "    self.head = Node(value) # 초기 클래스에 head노드선언\n",
        "\n",
        "  def add_node(self, value):\n",
        "    if self.head == None:\n",
        "      self.head = Node(value)\n",
        "    else:\n",
        "      node = self.head\n",
        "      while node.next:\n",
        "        node = node.next\n",
        "      node.next = Node(value)\n",
        "\n",
        "    # 연결리스트의 삭제구현\n",
        "  def del_node(self,value):\n",
        "    if self.head == None:\n",
        "      print(\"리스트가 비어있습니다.\")\n",
        "    elif self.head.value == value:\n",
        "      self.head = Node(value)\n",
        "      \n",
        "      # 변경된 노드에 대해서 삭제를 진행한다.\n",
        "    else:\n",
        "      node = self.head\n",
        "      while node.next:\n",
        "        if node.next.value == value:\n",
        "         # 노드의 위치를 변경시킨다.\n",
        "         # 변경된 노드에 대해서 삭제를 진행한다.\n",
        "        else : \n",
        "         # 다음 노드의 위치를 현재 노드에 넣어준다.\n"
      ]
    },
    {
      "cell_type": "code",
      "source": [
        "# 연결리스트의 노드값들에 대해서 봐보자.\n",
        "\n",
        "head = Node(5)    # head노드에 값5를 저장\n",
        "linked_list.add_node(11) # 값11을 추가\n",
        "\n",
        "print(head.value) # head노드의 값은 5\n",
        "print(head.next.value) # head노드의 다음위치노드의 값은 11"
      ],
      "metadata": {
        "id": "l22pav-0IrhJ"
      },
      "execution_count": null,
      "outputs": []
    },
    {
      "cell_type": "code",
      "source": [
        "# 리스트를 연결해보자.\n",
        "\n",
        "node1 = Node(3)\n",
        "node2 = Node(4)\n",
        "\n",
        "node3 = Node(5)\n",
        "node4 = Node(6)\n",
        "\n",
        "node1.next = node2\n",
        "node2.next = node3\n",
        "node3.next = node4\n",
        "\n",
        "node = node1        # 첫번째노드부터 시작한다.\n",
        "while node:         # 노드별로 반복문을 수행\n",
        "  print(node.value) \n",
        "  node = node.next  # 다음노드를 현재노드에 저장하면서 위치를 바꾼다."
      ],
      "metadata": {
        "id": "9RHs0t4uIxL4"
      },
      "execution_count": null,
      "outputs": []
    },
    {
      "cell_type": "code",
      "source": [
        "from collections import deque\n",
        "queue = deque([\"Eric\", \"John\", \"Michael\"])\n",
        "queue.append(\"Terry\")           \n",
        "queue.append(\"Graham\")\n",
        "\n",
        "print('queue:', queue)\n",
        "print('queue.popleft():',queue.popleft())\n",
        "print('queue.popleft():',queue.popleft())\n",
        "print('queue:', queue) "
      ],
      "metadata": {
        "id": "qkfwsBRKRkkf"
      },
      "execution_count": null,
      "outputs": []
    },
    {
      "cell_type": "code",
      "source": [
        "class LinkedListNode:\n",
        "  def __init__(self, data):\n",
        "    self.data = data\n",
        "    self.next = None\n",
        "\n",
        "class Queue:\n",
        "  def __init__(self):\n",
        "    self.front = None\n",
        "    self.rear = None\n",
        "\n",
        "  # 대기열에서 넣기(큐에 값을 집어넣는 함수)\n",
        "  def enqueue(self, item):\n",
        "    new_node = LinkedListNode(item)\n",
        "\n",
        "    # 큐가 비어있는지\n",
        "    if self.rear is None:\n",
        "      self.front = new_node\n",
        "      self.rear = new_node\n",
        "    else:\n",
        "      # 새로운 노드를 rear 다음에 삽입\n",
        "      self.rear.next = new_node\n",
        "      # 새로운 노드를 rear 재할당\n",
        "      self.rear = new_node\n",
        "    return new_node.data\n",
        "\n",
        "    # 대기열에서 빼기(큐에서 값을 빼내는 함수)\n",
        "  def dequeue(self):\n",
        "    if self.front is not None:\n",
        "      old_front = self.front\n",
        "      self.front = old_front.next\n",
        "\n",
        "    if self.front is None:\n",
        "      self.rear = None\n",
        "    return old_front.data\n",
        "\n",
        "  def ord_desc(self):\n",
        "    node = self.front\n",
        "    while node:\n",
        "      print(node.data)\n",
        "      node = node.next"
      ],
      "metadata": {
        "id": "x8mz_JS9NGli"
      },
      "execution_count": null,
      "outputs": []
    },
    {
      "cell_type": "code",
      "source": [
        "print('1,2,3 차례로 추가하기:')\n",
        "q = Queue()\n",
        "q.enqueue(1)\n",
        "q.enqueue(2)\n",
        "q.enqueue(3)\n",
        "q.ord_desc()\n",
        "\n",
        "print('대기열에서 빼기:')\n",
        "q.dequeue()\n",
        "q.ord_desc()"
      ],
      "metadata": {
        "id": "YO_W5DQSP6iT"
      },
      "execution_count": null,
      "outputs": []
    },
    {
      "cell_type": "code",
      "source": [
        "stack = [3, 4, 5]\n",
        "\n",
        "stack.append(6)\n",
        "stack.append(7)\n",
        "print(stack)\n",
        "\n",
        "stack.pop()\n",
        "print(stack)\n",
        "\n",
        "stack.pop()\n",
        "print(stack)\n",
        "\n",
        "stack.pop()\n",
        "print(stack)"
      ],
      "metadata": {
        "id": "wiBWA8myQi8Z"
      },
      "execution_count": null,
      "outputs": []
    },
    {
      "cell_type": "code",
      "source": [
        "class LinkedListNode:\n",
        "  def __init__(self, data):\n",
        "    self.data = data\n",
        "    self.next = None\n",
        "\n",
        "class Stack:\n",
        "  def __init__(self):\n",
        "    self.top = None\n",
        "\n",
        "  def push(self, data):\n",
        "    new_node = LinkedListNode(data)\n",
        "    new_node.next = self.top\n",
        "    self.top = new_node\n",
        "    return new_node.data\n",
        "\n",
        "  def pop(self):\n",
        "    if self.top is not None:\n",
        "      popped_node = self.top\n",
        "      self.top = popped_node.next\n",
        "      return popped_node.data\n",
        "\n",
        "  def ord_desc(self):\n",
        "    node = self.top\n",
        "    while node:\n",
        "      print(node.data)\n",
        "      node = node.next\n"
      ],
      "metadata": {
        "id": "o6dhY_l5T3Wc"
      },
      "execution_count": null,
      "outputs": []
    },
    {
      "cell_type": "code",
      "source": [
        "s = Stack()\n",
        "\n",
        "print('1,2,3 차례대로 추가하기:')\n",
        "s = Stack()\n",
        "s.push(1)\n",
        "s.push(2)\n",
        "s.push(3)\n",
        "s.ord_desc()\n",
        "\n",
        "print('대기열에서 빼기:')\n",
        "s.pop()\n",
        "s.ord_desc()"
      ],
      "metadata": {
        "id": "WTLitIKtUWgy"
      },
      "execution_count": null,
      "outputs": []
    },
    {
      "cell_type": "markdown",
      "source": [
        "# Part 1"
      ],
      "metadata": {
        "id": "uxa059uSWn8n"
      }
    },
    {
      "cell_type": "code",
      "source": [
        "class Queue():\n",
        "    def __init__(self):\n",
        "      self.queue = []\n",
        "\n",
        "\n",
        "    def enqueue(self,item):\n",
        "      self.queue.append(item)  \n",
        "\n",
        "    def dequeue(self):\n",
        "        if len(self.queue) == 0:\n",
        "          return None\n",
        "        else:\n",
        "          return self.queue.pop(0)\n",
        "\n",
        "\n",
        "    def return_queue(self):\n",
        "        return self.queue\n",
        "\n",
        "\n",
        "class Stack():\n",
        "    def __init__(self):\n",
        "        self.stack = []\n",
        "\n",
        "\n",
        "    def push(self, item):\n",
        "        self.stack.append(item)\n",
        "\n",
        "\n",
        "    def pop(self):\n",
        "        if len(self.stack) == 0:\n",
        "          return None\n",
        "        else:\n",
        "          return self.stack.pop()\n",
        "\n",
        "\n",
        "    def return_stack(self):\n",
        "        return self.stack"
      ],
      "metadata": {
        "id": "F186QRJnV_fn"
      },
      "execution_count": null,
      "outputs": []
    },
    {
      "cell_type": "markdown",
      "source": [
        "# Part 2"
      ],
      "metadata": {
        "id": "fJa8qvqtZQpG"
      }
    },
    {
      "cell_type": "code",
      "source": [
        "class Node:\n",
        "    def __init__(self,value,next=None):\n",
        "        self.value = value\n",
        "        self.next = next\n",
        "\n",
        "\n",
        "class linked_list:\n",
        "    def __init__(self, value):\n",
        "        self.head = Node(value)\n",
        "\n",
        "\n",
        "    def add_node(self, value):\n",
        "        if self.head == None:\n",
        "          self.head = Node(value)\n",
        "        else:\n",
        "          node = self.head\n",
        "          while node.next:\n",
        "            node = node.next\n",
        "          node.next = Node(value)\n",
        "\n",
        "\n",
        "    def del_node(self,value):\n",
        "        node = self.head\n",
        "        if node.value == value:\n",
        "          self.head = node.next\n",
        "          return node.value\n",
        "        while node:\n",
        "          if  node.next.value == value:\n",
        "            return_value = node.next.value\n",
        "            node.next = node.next.next\n",
        "            return return_value\n",
        "          else:\n",
        "            node = node.next\n",
        "        return None\n",
        "\n",
        "\n",
        "    def ord_desc(self):\n",
        "        linkedlist_values = []\n",
        "        node = self.head\n",
        "        while node:\n",
        "          linkedlist_values.append(node.value)\n",
        "          node = node.next\n",
        "        return linkedlist_values\n",
        "\n",
        "\n",
        "    def search_node(self,value):\n",
        "        node = self.head\n",
        "        while node:\n",
        "          if node.value == value:\n",
        "            return node\n",
        "          node = node.next\n",
        "        return None"
      ],
      "metadata": {
        "id": "5y08xcQ4ZPAM"
      },
      "execution_count": null,
      "outputs": []
    },
    {
      "cell_type": "code",
      "source": [
        ""
      ],
      "metadata": {
        "id": "M0ZU6FdycDhb"
      },
      "execution_count": null,
      "outputs": []
    }
  ]
}