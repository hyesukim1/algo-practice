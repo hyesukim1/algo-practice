{
  "nbformat": 4,
  "nbformat_minor": 0,
  "metadata": {
    "colab": {
      "name": "python_with_oop.ipynb",
      "private_outputs": true,
      "provenance": [],
      "authorship_tag": "ABX9TyObH5yWy/wCCy/DN0Kq2w7p",
      "include_colab_link": true
    },
    "kernelspec": {
      "name": "python3",
      "display_name": "Python 3"
    },
    "language_info": {
      "name": "python"
    }
  },
  "cells": [
    {
      "cell_type": "markdown",
      "metadata": {
        "id": "view-in-github",
        "colab_type": "text"
      },
      "source": [
        "<a href=\"https://colab.research.google.com/github/hyesukim1/algo-practice/blob/main/python_with_oop.ipynb\" target=\"_parent\"><img src=\"https://colab.research.google.com/assets/colab-badge.svg\" alt=\"Open In Colab\"/></a>"
      ]
    },
    {
      "cell_type": "markdown",
      "source": [
        "# oop에 대한 기본 개념"
      ],
      "metadata": {
        "id": "oQMXrmeCishF"
      }
    },
    {
      "cell_type": "code",
      "execution_count": null,
      "metadata": {
        "id": "tzIYVMJcifIi"
      },
      "outputs": [],
      "source": [
        "class Bus:\n",
        "  def __init__(self, speed, color):\n",
        "      self.speed = speed\n",
        "      self.color = color\n",
        "  \n",
        "  def drive_bus(self):\n",
        "    self.speed = 70\n",
        "\n",
        "class Car:\n",
        "  def __init__(self, speed, color, model):\n",
        "    self.speed = speed\n",
        "    self.color = color\n",
        "    self.model = model\n",
        "  \n",
        "  def drive(self):\n",
        "    self.speed = 50"
      ]
    },
    {
      "cell_type": "code",
      "source": [
        "myCar = Car(0, \"green\", \"testCar\")\n",
        "print(\"--------Car Object Create Complete--------\")\n",
        "print(\"Car Speed: \", myCar.speed)\n",
        "print(\"Car Color: \", myCar.color)\n",
        "print(\"Car Model: \", myCar.model)\n",
        "\n",
        "myBus = Bus(0, 'black')\n",
        "print(\"--------Bus Object Create Complete--------\")\n",
        "print(\"Bus color: \", myBus.color)"
      ],
      "metadata": {
        "id": "K3LHFg9qkunN"
      },
      "execution_count": null,
      "outputs": []
    },
    {
      "cell_type": "code",
      "source": [
        "# 운전 중이 아니므로 speed는 0을 출력한다.\n",
        "print(\"--------Car/Bus Speed 1--------\")\n",
        "print(\"Car Speed by drive: \", myCar.speed)\n",
        "print(\"Bus Speed by drive: \", myBus.speed)\n",
        "\n",
        "# Car/Bus object method Call\n",
        "myCar.drive()\n",
        "myBus.drive_bus()\n",
        "\n",
        "# 각각의 개체가 각자의 속도로 움직이고 있다.\n",
        "print(\"--------Car/Bus Speed 2--------\")\n",
        "print(\"Car Speed by drive: \", myCar.speed)\n",
        "print(\"Bus Speed by drive: \", myBus.speed)"
      ],
      "metadata": {
        "id": "gIqAt2aFkwf7"
      },
      "execution_count": null,
      "outputs": []
    },
    {
      "cell_type": "code",
      "source": [
        "class Encap:\n",
        "  def __init__(self,value):\n",
        "    self.value = value\n",
        "    print('init :', self.value)\n",
        "\n",
        "  def _set(self):\n",
        "    print('set :', self.value)\n",
        "\n",
        "  def printTest(self):\n",
        "    print('printTest :', self.value)\n",
        "\n",
        "  # def __printTest2(self):\n",
        "  #   print('printTest :', self.value)\n",
        "\n",
        "# object 생성\n",
        "e = Encap(10)\n",
        "\n",
        "# object 실행 \n",
        "# 케이스1\n",
        "e.__init__(20)\n",
        "e._set()\n",
        "e.printTest()\n",
        "#e.__printTest2()"
      ],
      "metadata": {
        "id": "VLR2MnsRlAe_"
      },
      "execution_count": null,
      "outputs": []
    },
    {
      "cell_type": "code",
      "source": [
        "# 케이스2\n",
        "e.__init__(30)\n",
        "e._set()\n",
        "e.printTest()"
      ],
      "metadata": {
        "id": "2Um3j_Jxl5Fe"
      },
      "execution_count": null,
      "outputs": []
    },
    {
      "cell_type": "code",
      "source": [
        "# 상속코드\n",
        "\n",
        "# 클래스 선언\n",
        "class Person:\n",
        "    def __init__(self, name):\n",
        "        self.name = name\n",
        "        \n",
        "class Student(Person):      # Person 클래스 상속받음(name 변수를 파라미터로 재사용)\n",
        "    def study(self):\n",
        "        print (self.name + \" studies hard\")\n",
        "\n",
        "class Employee(Person):     # Person 클래스 상속받음(name 변수를 파라미터로 재사용)\n",
        "    def work(self):\n",
        "        print (self.name + \" works hard\")\n",
        "\n",
        "# object 생성\n",
        "s = Student(\"Dave\")\n",
        "e = Employee(\"David\")\n",
        "\n",
        "# object 실행\n",
        "s.study()\n",
        "e.work()"
      ],
      "metadata": {
        "id": "323A9F_XmCgn"
      },
      "execution_count": null,
      "outputs": []
    },
    {
      "cell_type": "code",
      "source": [
        "# 포함코드\n",
        "\n",
        "# 클래스 선언\n",
        "class Bill():\n",
        "    def __init__(self, description):\n",
        "        self.description = description\n",
        "\n",
        "\n",
        "class Tail():\n",
        "    def __init__(self, length):\n",
        "        self.length = length\n",
        "\n",
        "\n",
        "class Duck():\n",
        "    def __init__(self, bill, tail):\n",
        "        self.bill = bill\n",
        "        self.tail = tail\n",
        "\n",
        "    def about(self):\n",
        "        print(\n",
        "            f\"This duck has a {self.bill.description} and a {self.tail.length}.\")\n",
        "\n",
        "# object 생성\n",
        "duck = Duck(Bill('bill object'), Tail('tail object'))\n",
        "\n",
        "# object 실행\n",
        "duck.about()"
      ],
      "metadata": {
        "id": "nNVE8fkzoFAL"
      },
      "execution_count": null,
      "outputs": []
    },
    {
      "cell_type": "code",
      "source": [
        "# 다형성 \n",
        "\n",
        "class Slimes:\n",
        "    def __init__(self):\n",
        "        self.hp = 100\n",
        "        self.attack_power = 50\n",
        "    def get_damage(self):\n",
        "        self.hp -= self.attack_power\n",
        "        if self.hp <= 0:\n",
        "            self.hp = 0\n",
        "            print('Slime is dead!!!')\n",
        "\n",
        "class Slime_Yellow(Slimes):\n",
        "    pass\n",
        "\n",
        "class Slime_Blue(Slimes):\n",
        "    def __init__(self):\n",
        "        super().__init__()\n",
        "        self.attack_power = int(self.attack_power * 0.8)\n",
        "    def get_damage(self):\n",
        "        self.hp -= self.attack_power\n",
        "        if self.hp <= 0:\n",
        "            self.hp = 0\n",
        "            print('Blue Slime is dead!!! You get 100 Gold')\n",
        "\n",
        "\n",
        "class Slime_Purple(Slimes):\n",
        "    def __init__(self):\n",
        "        super().__init__()\n",
        "        self.attack_power = int(self.attack_power * 0.5)\n",
        "    def get_damage(self):\n",
        "        self.hp -= self.attack_power\n",
        "        if self.hp <= 0:\n",
        "            self.hp = 0\n",
        "            print('Purple Slime is dead!!!, You get 300 Gold')\n"
      ],
      "metadata": {
        "id": "OAwayvHCpfs5"
      },
      "execution_count": null,
      "outputs": []
    },
    {
      "cell_type": "code",
      "source": [
        "Slime_1 = Slime_Yellow()\n",
        "# 슬라임 제거하기: hp=0 만들기\n",
        "print(Slime_1.hp)\n",
        "Slime_1.get_damage()\n",
        "print('Slime_1 hp:', Slime_1.hp)\n",
        "Slime_1.get_damage()\n",
        "print('Slime_1 hp:',Slime_1.hp)"
      ],
      "metadata": {
        "id": "8L34mcr2ryMf"
      },
      "execution_count": null,
      "outputs": []
    },
    {
      "cell_type": "code",
      "source": [
        "Slime_2 = Slime_Blue()\n",
        "# 슬라임 제거하기: hp=0 만들기\n",
        "Slime_2.get_damage()\n",
        "print('Slime_2 hp:',Slime_2.hp)\n",
        "Slime_2.get_damage()\n",
        "print('Slime_2 hp:',Slime_2.hp)\n",
        "Slime_2.get_damage()\n",
        "print('Slime_2 hp:',Slime_2.hp)"
      ],
      "metadata": {
        "id": "kqRzOyyOr2dx"
      },
      "execution_count": null,
      "outputs": []
    },
    {
      "cell_type": "code",
      "source": [
        "Slime_3 = Slime_Purple()\n",
        "# 슬라임 제거하기: hp=0 만들기\n",
        "Slime_3.get_damage()\n",
        "print('Slime_3 hp:',Slime_3.hp)\n",
        "Slime_3.get_damage()\n",
        "print('Slime_3 hp:',Slime_3.hp)\n",
        "Slime_3.get_damage()\n",
        "print('Slime_3 hp:',Slime_3.hp)\n",
        "Slime_3.get_damage()\n",
        "print('Slime_3 hp:',Slime_3.hp)"
      ],
      "metadata": {
        "id": "dS0s3onur7_W"
      },
      "execution_count": null,
      "outputs": []
    },
    {
      "cell_type": "code",
      "source": [
        "class Bicycle():\n",
        "     def exclaim(self):\n",
        "       print(\"부모클래스 자전거\")\n",
        "\n",
        "class Specialized(Bicycle):            # 부모클래스를 상속받음\n",
        "    def exclaim(self, specialized):    # 메소드 오버라이딩(specialized 파라미터 추가, return 추가)\n",
        "         print(\"자식클래스 재정의:\",specialized)\n",
        "         return 'return 자식클래스 재정의: '+specialized\n",
        "\n",
        "\n",
        "a_bike = Bicycle()\n",
        "a_specialized = Specialized()\n",
        "\n",
        "# 출력1 - 부모클래스 메소드\n",
        "print('출력1:')\n",
        "a_bike.exclaim()\n",
        "\n",
        "# 출력2 - 오버라이딩된 자식클래스 메소드(파라미터 추가, return 추가)\n",
        "print('출력2:')\n",
        "a_specialized.exclaim('specialized test')"
      ],
      "metadata": {
        "id": "BmBEpCFVsBdQ"
      },
      "execution_count": null,
      "outputs": []
    },
    {
      "cell_type": "code",
      "source": [
        "# case 2 - enumerate 활용\n",
        "fla_list = ['A','B','C','D']\n",
        "enu_list = enumerate(fla_list)\n",
        "# print(enu_list)\n",
        "# print(next(enu_list))\n",
        "# print(next(enu_list))\n",
        "\n",
        "# enumerate는 인덱스와 값을 함께 출력해주기 때문에 상황에 따라 다양하게 활용해볼 수 있다.\n",
        "\n",
        "for i,enu_list in enumerate(fla_list):\n",
        "  print(f'{i+1}: {enu_list}')"
      ],
      "metadata": {
        "id": "uq7QsE9zylet"
      },
      "execution_count": null,
      "outputs": []
    },
    {
      "cell_type": "markdown",
      "source": [
        "# part1"
      ],
      "metadata": {
        "id": "izIKMCwez0G_"
      }
    },
    {
      "cell_type": "code",
      "source": [
        "class CarOwner:\n",
        "  def __init__(self, name):\n",
        "    self.name = name\n",
        "\n",
        "  def concentrate(self):\n",
        "    return f'{self.name} can not do anything else'\n",
        "\n",
        "class Car:\n",
        "  def __init__(self, owner_name):\n",
        "    self.owner_name = CarOwner(owner_name)\n",
        "\n",
        "  def drive(self):\n",
        "    return f'{self.owner_name} can not do anything else \\n {self.owner_name} is driving now.'\n",
        "\n",
        "class SelfDrivingCar(Car):\n",
        "  def driving(self):\n",
        "    return 'Car is driving by itself'"
      ],
      "metadata": {
        "id": "gtEckzATzrBa"
      },
      "execution_count": null,
      "outputs": []
    },
    {
      "cell_type": "markdown",
      "source": [
        "# part2"
      ],
      "metadata": {
        "id": "omr_EocW4RFJ"
      }
    },
    {
      "cell_type": "code",
      "source": [
        "class Computer:\n",
        "    def __init__(self, cpu, ram):\n",
        "        self.CPU = cpu\n",
        "        self.RAM = ram\n",
        "        \n",
        "    def browse(self):\n",
        "        return('browse')\n",
        "\n",
        "    def work(self):\n",
        "        return('work')\n",
        "\n",
        "class Laptop(Computer):\n",
        "  def __init__(self, cpu, ram, battery):\n",
        "    super().__init__(cpu, ram)\n",
        "    self.battery = battery"
      ],
      "metadata": {
        "id": "n1-E6HHg3NHg"
      },
      "execution_count": null,
      "outputs": []
    },
    {
      "cell_type": "code",
      "source": [
        ""
      ],
      "metadata": {
        "id": "TxhjXRWT47Bm"
      },
      "execution_count": null,
      "outputs": []
    }
  ]
}